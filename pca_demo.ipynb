{
  "nbformat": 4,
  "nbformat_minor": 0,
  "metadata": {
    "colab": {
      "name": "Untitled",
      "provenance": [],
      "authorship_tag": "ABX9TyNSszCrA0/Q4bjymd5EGIKu",
      "include_colab_link": true
    },
    "kernelspec": {
      "name": "python3",
      "display_name": "Python 3"
    }
  },
  "cells": [
    {
      "cell_type": "markdown",
      "metadata": {
        "id": "view-in-github",
        "colab_type": "text"
      },
      "source": [
        "<a href=\"https://colab.research.google.com/github/eduardodut/pca_demo/blob/master/pca_demo.ipynb\" target=\"_parent\"><img src=\"https://colab.research.google.com/assets/colab-badge.svg\" alt=\"Open In Colab\"/></a>"
      ]
    },
    {
      "cell_type": "code",
      "metadata": {
        "id": "Iqrjrby5kyCR",
        "colab_type": "code",
        "colab": {
          "base_uri": "https://localhost:8080/",
          "height": 879
        },
        "outputId": "23c230e8-4918-4e9a-cf5e-e8b2979302d3"
      },
      "source": [
        "## NOTE: This is Python 3 code.\n",
        "import pandas as pd\n",
        "import numpy as np\n",
        "import random as rd\n",
        "from sklearn.decomposition import PCA\n",
        "from sklearn import preprocessing\n",
        "import matplotlib.pyplot as plt # NOTE: This was tested with matplotlib v. 2.1.0\n",
        " \n",
        "#########################\n",
        "#\n",
        "# Data Generation Code\n",
        "#\n",
        "#########################\n",
        "## In this example, the data is in a data frame called data.\n",
        "## Columns are individual samples (i.e. cells)\n",
        "## Rows are measurements taken for all the samples (i.e. genes)\n",
        "## Just for the sake of the example, we'll use made up data...\n",
        "genes = ['gene' + str(i) for i in range(1,101)]\n",
        " \n",
        "wt = ['wt' + str(i) for i in range(1,6)]\n",
        "ko = ['ko' + str(i) for i in range(1,6)]\n",
        " \n",
        "data = pd.DataFrame(columns=[*wt, *ko], index=genes)\n",
        " \n",
        "for gene in data.index:\n",
        "    data.loc[gene,'wt1':'wt5'] = np.random.poisson(lam=rd.randrange(10,1000), size=5)\n",
        "    data.loc[gene,'ko1':'ko5'] = np.random.poisson(lam=rd.randrange(10,1000), size=5)\n",
        " \n",
        "print(data.head())\n",
        "print(data.shape)\n",
        " \n",
        "#########################\n",
        "#\n",
        "# Perform PCA on the data\n",
        "#\n",
        "#########################\n",
        "# First center and scale the data\n",
        "scaled_data = preprocessing.scale(data.T)\n",
        " \n",
        "pca = PCA() # create a PCA object\n",
        "pca.fit(scaled_data) # do the math\n",
        "pca_data = pca.transform(scaled_data) # get PCA coordinates for scaled_data\n",
        " \n",
        "#########################\n",
        "#\n",
        "# Draw a scree plot and a PCA plot\n",
        "#\n",
        "#########################\n",
        " \n",
        "#The following code constructs the Scree plot\n",
        "per_var = np.round(pca.explained_variance_ratio_* 100, decimals=1)\n",
        "labels = ['PC' + str(x) for x in range(1, len(per_var)+1)]\n",
        " \n",
        "plt.bar(x=range(1,len(per_var)+1), height=per_var, tick_label=labels)\n",
        "plt.ylabel('Percentage of Explained Variance')\n",
        "plt.xlabel('Principal Component')\n",
        "plt.title('Scree Plot')\n",
        "plt.show()\n",
        " \n",
        "#the following code makes a fancy looking plot using PC1 and PC2\n",
        "pca_df = pd.DataFrame(pca_data, index=[*wt, *ko], columns=labels)\n",
        " \n",
        "plt.scatter(pca_df.PC1, pca_df.PC2)\n",
        "plt.title('My PCA Graph')\n",
        "plt.xlabel('PC1 - {0}%'.format(per_var[0]))\n",
        "plt.ylabel('PC2 - {0}%'.format(per_var[1]))\n",
        " \n",
        "for sample in pca_df.index:\n",
        "    plt.annotate(sample, (pca_df.PC1.loc[sample], pca_df.PC2.loc[sample]))\n",
        " \n",
        "plt.show()\n",
        " \n",
        "#########################\n",
        "#\n",
        "# Determine which genes had the biggest influence on PC1\n",
        "#\n",
        "#########################\n",
        " \n",
        "## get the name of the top 10 measurements (genes) that contribute\n",
        "## most to pc1.\n",
        "## first, get the loading scores\n",
        "loading_scores = pd.Series(pca.components_[0], index=genes)\n",
        "## now sort the loading scores based on their magnitude\n",
        "sorted_loading_scores = loading_scores.abs().sort_values(ascending=False)\n",
        " \n",
        "# get the names of the top 10 genes\n",
        "top_10_genes = sorted_loading_scores[0:10].index.values\n",
        " \n",
        "## print the gene names and their scores (and +/- sign)\n",
        "print(loading_scores[top_10_genes])\n"
      ],
      "execution_count": 1,
      "outputs": [
        {
          "output_type": "stream",
          "text": [
            "       wt1  wt2  wt3  wt4  wt5  ko1  ko2  ko3  ko4  ko5\n",
            "gene1  240  217  238  228  228  380  416  388  385  375\n",
            "gene2  387  361  376  395  393  299  366  371  316  385\n",
            "gene3  321  325  299  316  303  323  336  323  309  331\n",
            "gene4  751  774  735  765  699  184  206  180  189  184\n",
            "gene5  773  781  803  805  790   21   21   14   17   19\n",
            "(100, 10)\n"
          ],
          "name": "stdout"
        },
        {
          "output_type": "display_data",
          "data": {
            "image/png": "[encoded data removed]",
            "text/plain": [
              "<Figure size 432x288 with 1 Axes>"
            ]
          },
          "metadata": {
            "tags": []
          }
        },
        {
          "output_type": "display_data",
          "data": {
            "image/png": "[encoded data removed]",
            "text/plain": [
              "<Figure size 432x288 with 1 Axes>"
            ]
          },
          "metadata": {
            "tags": []
          }
        },
        {
          "output_type": "stream",
          "text": [
            "gene67   -0.104450\n",
            "gene5    -0.104450\n",
            "gene53    0.104423\n",
            "gene20   -0.104411\n",
            "gene97    0.104403\n",
            "gene37    0.104395\n",
            "gene81   -0.104391\n",
            "gene52   -0.104379\n",
            "gene29    0.104369\n",
            "gene24   -0.104357\n",
            "dtype: float64\n"
          ],
          "name": "stdout"
        }
      ]
    }
  ]
}